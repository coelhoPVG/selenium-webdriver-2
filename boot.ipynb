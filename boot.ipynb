{
 "cells": [
  {
   "cell_type": "code",
   "execution_count": null,
   "metadata": {},
   "outputs": [],
   "source": [
    "## obs: sera importante informar o caminho das cidade / loja para configurar os webdriver."
   ]
  },
  {
   "cell_type": "code",
   "execution_count": 26,
   "metadata": {},
   "outputs": [],
   "source": [
    "from selenium import webdriver\n",
    "from selenium.webdriver.chrome.options import Options\n",
    "from selenium.webdriver.common.by import By\n",
    "from selenium.webdriver.support.ui import Select\n",
    "from selenium.common.exceptions import NoSuchElementException\n",
    "from selenium.webdriver.common.by import By\n",
    "from selenium.webdriver.support.ui import WebDriverWait\n",
    "from selenium.webdriver.support import expected_conditions as EC\n",
    "from selenium.webdriver.common.action_chains import ActionChains\n",
    "from selenium.webdriver.common.keys import Keys\n",
    "import pandas as pd\n",
    "import time\n",
    "\n",
    "\n",
    "options = Options()\n",
    "options.add_argument(\"--incognito\")\n",
    "options.add_argument(\"--window-size=2560,1440\")\n",
    "options.add_argument(\"--start-maximized\")\n",
    "#options.add_argument('--headless=new') ## modo oculto.\n",
    "driver = webdriver.Chrome(options=options)\n",
    "\n",
    "# Wait for initialize, in seconds\n",
    "wait = WebDriverWait(driver, 10)\n",
    "\n",
    "driver.get(\"https://mercado.carrefour.com.br/#crfimt=home|shop|seletor|mercado_4p_161020|2\")\n",
    "\n",
    "##driver.quit()"
   ]
  },
  {
   "cell_type": "code",
   "execution_count": 27,
   "metadata": {},
   "outputs": [],
   "source": [
    "button_insira_cep = driver.find_elements(By.XPATH,\"//button[ text()='Insira seu CEP']\")\n",
    "button_insira_cep[1].click()\n",
    "\n",
    "button_retire_na_loja = driver.find_elements(By.XPATH,\"//span[@class='w-[7rem] mx-[.75rem]' ]\")\n",
    "button_retire_na_loja[1].click()\n",
    "\n",
    "button_selecione_cidade = driver.find_elements(By.XPATH,\"//select[@id='selectCity' ]//option\")[2:]\n",
    "contador = 0\n",
    "lista_cidades ={}\n",
    "for i in button_selecione_cidade:\n",
    "    lista_cidades[i.text] = contador\n",
    "    contador += 1"
   ]
  },
  {
   "cell_type": "code",
   "execution_count": 28,
   "metadata": {},
   "outputs": [],
   "source": [
    "button_selecione_cidade[ lista_cidades['SÃO PAULO - SP'] ].click()\n",
    "\n",
    "#aguarda ate o botao loja estar visivel:\n",
    "wait.until(EC.visibility_of_element_located((By.XPATH,\"//div[@class='grid grid-flow-col']//h3\")))\n",
    "\n",
    "button_loja = driver.find_elements(By.XPATH,\"//div[@class='grid grid-flow-col']//h3\")\n",
    "\n",
    "lista_de_lojas = {}\n",
    "contador = 0\n",
    "for i in button_loja:\n",
    "    lista_de_lojas[i.text] = contador\n",
    "    contador += 1\n",
    "\n",
    "button_loja[ lista_de_lojas['Hipermercado Pamplona'] ].click()\n"
   ]
  },
  {
   "cell_type": "code",
   "execution_count": 29,
   "metadata": {},
   "outputs": [],
   "source": [
    "## parte em que os produtos são pesquisados no site :\n",
    "\n",
    "caixa_pesquisa = driver.find_elements(By.XPATH,'//input')[0]\n",
    "acoes = ActionChains(driver)\n",
    "acoes.move_to_element(caixa_pesquisa).click().send_keys(\"cafe\").send_keys(Keys.ENTER).perform()\n"
   ]
  },
  {
   "cell_type": "code",
   "execution_count": null,
   "metadata": {},
   "outputs": [],
   "source": [
    "## é necessario ajustar a pagina apenas uma vez para mostrar 60 itens por pagina:\n",
    "\n",
    "button_quantidade_produtos_pagina = driver.find_element(By.XPATH,'//button[@class=\"flex justify-between items-center color-[#333333] p-[7px]\"]')\n",
    "button_exibe_produtos = driver.find_element(By.XPATH,'//button[text()=\"60\"]')\n",
    "acoes.move_to_element(button_quantidade_produtos_pagina).click().perform()\n",
    "acoes.move_to_element(button_exibe_produtos).click().perform()"
   ]
  },
  {
   "cell_type": "code",
   "execution_count": null,
   "metadata": {},
   "outputs": [],
   "source": [
    "lista_produtos = driver.find_elements(By.XPATH,'//ul[@class=\"grid grid-cols-2 xl:grid-cols-5 md:grid-cols-4\"]//li//article//section//h3//a')\n",
    "dicionario_produtos = {}\n",
    "for i in lista_produtos:\n",
    "    dicionario_produtos[i.get_attribute('href')] = i.text  \n",
    "\n",
    "id_produtos = []\n",
    "for i in dicionario_produtos.keys():\n",
    "   id_produtos.append( i.replace('/p','').split('-')[-1:] )\n",
    "\n",
    "\n",
    "pd.DataFrame({'Id Produto':id_produtos,'Nome':dicionario_produtos.values(),'Link':dicionario_produtos.keys()})"
   ]
  },
  {
   "cell_type": "code",
   "execution_count": 56,
   "metadata": {},
   "outputs": [],
   "source": [
    "driver.quit()"
   ]
  },
  {
   "cell_type": "code",
   "execution_count": null,
   "metadata": {},
   "outputs": [],
   "source": []
  },
  {
   "cell_type": "code",
   "execution_count": null,
   "metadata": {},
   "outputs": [],
   "source": [
    "## codigo que puxa toda a relacao de Estado/Loja disponiveis no site do carrefour mercado:\n",
    "\n",
    "base = []\n",
    "for cidade in list(lista_cidades.keys()):\n",
    "    button_muda_loja = driver.find_element(By.XPATH,'//span[@class=\"flex hover:underline hover:underline-offset-2 font-bold col-span-2\"]')\n",
    "    button_muda_loja.click()\n",
    "    time.sleep(2)\n",
    "    button_selecione_cidade_2 = driver.find_elements(By.XPATH,\"//select[@id='selectCity' ]//option\")[2:]\n",
    "    button_selecione_cidade_2[ lista_cidades[ cidade ] ].click()\n",
    "    time.sleep(2)\n",
    "    button_loja = driver.find_elements(By.XPATH,\"//div[@class='grid grid-flow-col']//h3\")\n",
    "    lista_de_lojas = {}\n",
    "    contador = 0\n",
    "    for i in button_loja:\n",
    "        lista_de_lojas[i.text] = contador\n",
    "        contador += 1\n",
    "    button_loja[0].click()\n",
    "    time.sleep(2)\n",
    "    cidade_ = [cidade for i in range(len(button_loja))]\n",
    "    data = pd.DataFrame({'cidade':cidade_,'Lojas':list(lista_de_lojas.keys())})\n",
    "    base.append(data)\n",
    "    print(f'cidade analisada: {cidade}')\n",
    "\n",
    "## gera a base de dados:\n",
    "base_de_lojas = pd.concat(base,ignore_index=True)\n",
    "base_de_lojas.to_excel(\"base de lojas.xlsx\")"
   ]
  },
  {
   "cell_type": "code",
   "execution_count": 15,
   "metadata": {},
   "outputs": [],
   "source": [
    "driver.quit()"
   ]
  },
  {
   "cell_type": "code",
   "execution_count": 33,
   "metadata": {},
   "outputs": [],
   "source": []
  },
  {
   "cell_type": "code",
   "execution_count": null,
   "metadata": {},
   "outputs": [],
   "source": []
  },
  {
   "cell_type": "code",
   "execution_count": null,
   "metadata": {},
   "outputs": [],
   "source": []
  },
  {
   "cell_type": "code",
   "execution_count": 54,
   "metadata": {},
   "outputs": [],
   "source": [
    "button_loja = driver.find_elements(By.XPATH,\"//div[@class='grid grid-flow-col']//h3\")"
   ]
  },
  {
   "cell_type": "code",
   "execution_count": null,
   "metadata": {},
   "outputs": [],
   "source": [
    "lista_de_lojas = {}\n",
    "contador = 0\n",
    "for i in button_loja:\n",
    "    lista_de_lojas[i.text] = contador\n",
    "    contador += 1\n",
    "lista_de_lojas\n",
    "\n"
   ]
  },
  {
   "cell_type": "code",
   "execution_count": 56,
   "metadata": {},
   "outputs": [],
   "source": [
    "button_loja[ lista_de_lojas['Carrefour Bairro Morumbi'] ].click()"
   ]
  },
  {
   "cell_type": "code",
   "execution_count": null,
   "metadata": {},
   "outputs": [],
   "source": []
  }
 ],
 "metadata": {
  "kernelspec": {
   "display_name": ".venv",
   "language": "python",
   "name": "python3"
  },
  "language_info": {
   "codemirror_mode": {
    "name": "ipython",
    "version": 3
   },
   "file_extension": ".py",
   "mimetype": "text/x-python",
   "name": "python",
   "nbconvert_exporter": "python",
   "pygments_lexer": "ipython3",
   "version": "3.10.12"
  }
 },
 "nbformat": 4,
 "nbformat_minor": 2
}
